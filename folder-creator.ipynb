{
 "cells": [
  {
   "cell_type": "code",
   "execution_count": 3,
   "metadata": {},
   "outputs": [
    {
     "data": {
      "text/plain": [
       "'./07-ML Ops/02-Cloud training/'"
      ]
     },
     "execution_count": 3,
     "metadata": {},
     "output_type": "execute_result"
    }
   ],
   "source": [
    "parent_path = './'\n",
    "\n",
    "# choose topic from the list (indexing matches to topic label (obviously without initial 0))\n",
    "topic_list = ['00-Setup', '01-Python', '02-Data Toolkit', '03-Maths', '04-Decision Science', '05-ML', '06-Deep Learning', '07-ML Ops']\n",
    "main_topic = topic_list[7]\n",
    "\n",
    "# enter folder name of the topic of the day (include index number)\n",
    "sub_topic = '02-Cloud training'\n",
    "\n",
    "# enter folder name of the specific challenge (include challenge index number)\n",
    "challenge = ''\n",
    "\n",
    "final_path = parent_path + main_topic + '/' + sub_topic + '/' + challenge\n",
    "final_path"
   ]
  },
  {
   "cell_type": "code",
   "execution_count": 4,
   "metadata": {},
   "outputs": [],
   "source": [
    "# execute this cell only when sure of file path\n",
    "# checks:\n",
    "    # parent path is indeed correct\n",
    "    # topic is correct\n",
    "    # sub-topic is correct\n",
    "    # challenge has been indexed manually\n",
    "\n",
    "!mkdir -p \"$final_path\""
   ]
  }
 ],
 "metadata": {
  "kernelspec": {
   "display_name": "lewagon",
   "language": "python",
   "name": "python3"
  },
  "language_info": {
   "codemirror_mode": {
    "name": "ipython",
    "version": 3
   },
   "file_extension": ".py",
   "mimetype": "text/x-python",
   "name": "python",
   "nbconvert_exporter": "python",
   "pygments_lexer": "ipython3",
   "version": "3.10.6"
  }
 },
 "nbformat": 4,
 "nbformat_minor": 2
}
